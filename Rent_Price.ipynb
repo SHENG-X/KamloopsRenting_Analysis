{
 "cells": [
  {
   "cell_type": "markdown",
   "metadata": {
    "collapsed": true
   },
   "source": [
    "# Analyzing renting price in kamloops region"
   ]
  },
  {
   "cell_type": "markdown",
   "metadata": {},
   "source": [
    "## The price data will be scraped from kijiji website"
   ]
  },
  {
   "cell_type": "code",
   "execution_count": 921,
   "metadata": {
    "collapsed": true
   },
   "outputs": [],
   "source": [
    "from bs4 import BeautifulSoup\n",
    "import urllib.request\n",
    "import numpy as np\n",
    "import matplotlib.pyplot as plt\n",
    "import time\n",
    "import math"
   ]
  },
  {
   "cell_type": "markdown",
   "metadata": {},
   "source": [
    "# Get Renting data from kijiji website"
   ]
  },
  {
   "cell_type": "markdown",
   "metadata": {},
   "source": [
    "pc=[]\n",
    "renting_info=[]\n",
    "startLink='https://www.kijiji.ca/v-house-rental/kamloops'\n",
    "for i in range(10):\n",
    "    url='https://www.kijiji.ca/b-house-rental/kamloops/page-'+str(i)+'/c43l1700227'\n",
    "    with urllib.request.urlopen(url) as response:\n",
    "        html_doc = response.read()\n",
    "        sp = BeautifulSoup(html_doc, 'html.parser')\n",
    "        prices=sp.select('.price')\n",
    "        links=sp.select('.title a')        \n",
    "        for i in range(len(sp.select('.price'))):\n",
    "            rent_price = prices[i].get_text().strip().strip('$').replace(',','')\n",
    "            mlink=startLink+links[i].get('href')\n",
    "            with urllib.request.urlopen(mlink) as response:\n",
    "                html_doc = response.read()\n",
    "                soup = BeautifulSoup(html_doc, 'html.parser')\n",
    "                features = soup.select('.attributeValue-1550499923')\n",
    "                try:\n",
    "                    bedrooms = features[0].get_text()\n",
    "                except:\n",
    "                    bedrooms = 'Not Available'\n",
    "                try:\n",
    "                    bathrooms = features[1].get_text()\n",
    "                except:\n",
    "                    bathrooms = 'Not Available'\n",
    "#                 try:\n",
    "#                     furnished = features[2].get_text()\n",
    "#                 except:\n",
    "#                     furnished = 'Not Availabel'\n",
    "#                 try:\n",
    "#                     petfriendly = features[3].get_text()\n",
    "#                 except:\n",
    "#                     petfriendly = 'Not Availabel'\n",
    "                try:\n",
    "                    location = soup.select('.address-2932131783')[0].get_text()\n",
    "                except:\n",
    "                    location='Not Availabel'\n",
    "                print(rent_price,bedrooms,bathrooms,location)\n",
    "                renting_info.append({'price':rent_price, 'bedrooms':bedrooms,'bathrooms':bathrooms,'location':location })\n",
    "                time.sleep(1)\n",
    "    time.sleep(2)"
   ]
  },
  {
   "cell_type": "markdown",
   "metadata": {},
   "source": [
    "renting_info"
   ]
  },
  {
   "cell_type": "markdown",
   "metadata": {},
   "source": [
    "rent_info=pd.DataFrame(renting_info)"
   ]
  },
  {
   "cell_type": "markdown",
   "metadata": {},
   "source": [
    "rent_info.head(10)"
   ]
  },
  {
   "cell_type": "markdown",
   "metadata": {},
   "source": [
    "rent_info.to_csv('rent_info_kamloops.'+str(int(time.time()))+'.csv', sep=',',header=None)"
   ]
  },
  {
   "cell_type": "markdown",
   "metadata": {},
   "source": [
    "# Processing Data"
   ]
  },
  {
   "cell_type": "code",
   "execution_count": 922,
   "metadata": {},
   "outputs": [
    {
     "data": {
      "text/html": [
       "<div>\n",
       "<table border=\"1\" class=\"dataframe\">\n",
       "  <thead>\n",
       "    <tr style=\"text-align: right;\">\n",
       "      <th></th>\n",
       "      <th>bathrooms</th>\n",
       "      <th>bedrooms</th>\n",
       "      <th>location</th>\n",
       "      <th>price</th>\n",
       "    </tr>\n",
       "  </thead>\n",
       "  <tbody>\n",
       "    <tr>\n",
       "      <th>0</th>\n",
       "      <td>1 bathroom</td>\n",
       "      <td>2 bedrooms</td>\n",
       "      <td>Linthorpe Road, Kamloops V2B 7S3 BC</td>\n",
       "      <td>1525.00</td>\n",
       "    </tr>\n",
       "    <tr>\n",
       "      <th>1</th>\n",
       "      <td>2 bathrooms</td>\n",
       "      <td>3 bedrooms</td>\n",
       "      <td>Merritt, BC V1K0B2, Canada</td>\n",
       "      <td>Please Contact</td>\n",
       "    </tr>\n",
       "    <tr>\n",
       "      <th>2</th>\n",
       "      <td>2 bathrooms</td>\n",
       "      <td>3 bedrooms</td>\n",
       "      <td>, Kamloops V2B 3T9 BC</td>\n",
       "      <td>1800.00</td>\n",
       "    </tr>\n",
       "    <tr>\n",
       "      <th>3</th>\n",
       "      <td>2 bathrooms</td>\n",
       "      <td>4 bedrooms</td>\n",
       "      <td>Ave NE, Salmon Arm, BC V1E 3G4, Canada</td>\n",
       "      <td>2800.00</td>\n",
       "    </tr>\n",
       "    <tr>\n",
       "      <th>4</th>\n",
       "      <td>1 bathroom</td>\n",
       "      <td>2 bedrooms</td>\n",
       "      <td>Kamloops, BC V2B 3K5, Canada</td>\n",
       "      <td>950.00</td>\n",
       "    </tr>\n",
       "  </tbody>\n",
       "</table>\n",
       "</div>"
      ],
      "text/plain": [
       "     bathrooms    bedrooms                                location  \\\n",
       "0   1 bathroom  2 bedrooms     Linthorpe Road, Kamloops V2B 7S3 BC   \n",
       "1  2 bathrooms  3 bedrooms              Merritt, BC V1K0B2, Canada   \n",
       "2  2 bathrooms  3 bedrooms                   , Kamloops V2B 3T9 BC   \n",
       "3  2 bathrooms  4 bedrooms  Ave NE, Salmon Arm, BC V1E 3G4, Canada   \n",
       "4   1 bathroom  2 bedrooms            Kamloops, BC V2B 3K5, Canada   \n",
       "\n",
       "            price  \n",
       "0         1525.00  \n",
       "1  Please Contact  \n",
       "2         1800.00  \n",
       "3         2800.00  \n",
       "4          950.00  "
      ]
     },
     "execution_count": 922,
     "metadata": {},
     "output_type": "execute_result"
    }
   ],
   "source": [
    "pd.read_csv('rent_info_kamloops.1528247317.csv', names = [\"bathrooms\", \"bedrooms\", \"location\", \"price\"]).head(5)"
   ]
  },
  {
   "cell_type": "code",
   "execution_count": 923,
   "metadata": {
    "collapsed": true
   },
   "outputs": [],
   "source": [
    "read_in_rent_info=pd.read_csv('rent_info_kamloops.1528247317.csv', names = [\"bathrooms\", \"bedrooms\", \"location\", \"price\"])"
   ]
  },
  {
   "cell_type": "code",
   "execution_count": 924,
   "metadata": {},
   "outputs": [
    {
     "data": {
      "text/html": [
       "<div>\n",
       "<table border=\"1\" class=\"dataframe\">\n",
       "  <thead>\n",
       "    <tr style=\"text-align: right;\">\n",
       "      <th></th>\n",
       "      <th>bathrooms</th>\n",
       "      <th>bedrooms</th>\n",
       "      <th>location</th>\n",
       "      <th>price</th>\n",
       "    </tr>\n",
       "  </thead>\n",
       "  <tbody>\n",
       "    <tr>\n",
       "      <th>0</th>\n",
       "      <td>1 bathroom</td>\n",
       "      <td>2 bedrooms</td>\n",
       "      <td>Linthorpe Road, Kamloops V2B 7S3 BC</td>\n",
       "      <td>1525.00</td>\n",
       "    </tr>\n",
       "    <tr>\n",
       "      <th>1</th>\n",
       "      <td>2 bathrooms</td>\n",
       "      <td>3 bedrooms</td>\n",
       "      <td>Merritt, BC V1K0B2, Canada</td>\n",
       "      <td>Please Contact</td>\n",
       "    </tr>\n",
       "    <tr>\n",
       "      <th>2</th>\n",
       "      <td>2 bathrooms</td>\n",
       "      <td>3 bedrooms</td>\n",
       "      <td>, Kamloops V2B 3T9 BC</td>\n",
       "      <td>1800.00</td>\n",
       "    </tr>\n",
       "    <tr>\n",
       "      <th>3</th>\n",
       "      <td>2 bathrooms</td>\n",
       "      <td>4 bedrooms</td>\n",
       "      <td>Ave NE, Salmon Arm, BC V1E 3G4, Canada</td>\n",
       "      <td>2800.00</td>\n",
       "    </tr>\n",
       "    <tr>\n",
       "      <th>4</th>\n",
       "      <td>1 bathroom</td>\n",
       "      <td>2 bedrooms</td>\n",
       "      <td>Kamloops, BC V2B 3K5, Canada</td>\n",
       "      <td>950.00</td>\n",
       "    </tr>\n",
       "  </tbody>\n",
       "</table>\n",
       "</div>"
      ],
      "text/plain": [
       "     bathrooms    bedrooms                                location  \\\n",
       "0   1 bathroom  2 bedrooms     Linthorpe Road, Kamloops V2B 7S3 BC   \n",
       "1  2 bathrooms  3 bedrooms              Merritt, BC V1K0B2, Canada   \n",
       "2  2 bathrooms  3 bedrooms                   , Kamloops V2B 3T9 BC   \n",
       "3  2 bathrooms  4 bedrooms  Ave NE, Salmon Arm, BC V1E 3G4, Canada   \n",
       "4   1 bathroom  2 bedrooms            Kamloops, BC V2B 3K5, Canada   \n",
       "\n",
       "            price  \n",
       "0         1525.00  \n",
       "1  Please Contact  \n",
       "2         1800.00  \n",
       "3         2800.00  \n",
       "4          950.00  "
      ]
     },
     "execution_count": 924,
     "metadata": {},
     "output_type": "execute_result"
    }
   ],
   "source": [
    "read_in_rent_info.head(5)"
   ]
  },
  {
   "cell_type": "code",
   "execution_count": 925,
   "metadata": {},
   "outputs": [
    {
     "data": {
      "text/html": [
       "<div>\n",
       "<table border=\"1\" class=\"dataframe\">\n",
       "  <thead>\n",
       "    <tr style=\"text-align: right;\">\n",
       "      <th></th>\n",
       "      <th>bathrooms</th>\n",
       "      <th>bedrooms</th>\n",
       "      <th>location</th>\n",
       "      <th>price</th>\n",
       "    </tr>\n",
       "  </thead>\n",
       "  <tbody>\n",
       "    <tr>\n",
       "      <th>205</th>\n",
       "      <td>2 bathrooms</td>\n",
       "      <td>3 bedrooms</td>\n",
       "      <td>, Kamloops V2E 1E9 BC, Canada</td>\n",
       "      <td>Please Contact</td>\n",
       "    </tr>\n",
       "    <tr>\n",
       "      <th>206</th>\n",
       "      <td>1.5 bathrooms</td>\n",
       "      <td>3 bedrooms</td>\n",
       "      <td>460 Dalgleish Dr, Kamloops, BC V2C 5W7, Canada</td>\n",
       "      <td>1550.00</td>\n",
       "    </tr>\n",
       "    <tr>\n",
       "      <th>207</th>\n",
       "      <td>2 bathrooms</td>\n",
       "      <td>3 bedrooms</td>\n",
       "      <td>, Kamloops V2B 3E1 BC, Canada</td>\n",
       "      <td>1400.00</td>\n",
       "    </tr>\n",
       "    <tr>\n",
       "      <th>208</th>\n",
       "      <td>3 bathrooms</td>\n",
       "      <td>4 bedrooms</td>\n",
       "      <td>, kamloops v2c1k7 BC, Canada</td>\n",
       "      <td>2650.00</td>\n",
       "    </tr>\n",
       "    <tr>\n",
       "      <th>209</th>\n",
       "      <td>No</td>\n",
       "      <td>1 bathroom</td>\n",
       "      <td>, Kamloops V1S 1A3 BC, Canada</td>\n",
       "      <td>2500.00</td>\n",
       "    </tr>\n",
       "  </tbody>\n",
       "</table>\n",
       "</div>"
      ],
      "text/plain": [
       "         bathrooms    bedrooms  \\\n",
       "205    2 bathrooms  3 bedrooms   \n",
       "206  1.5 bathrooms  3 bedrooms   \n",
       "207    2 bathrooms  3 bedrooms   \n",
       "208    3 bathrooms  4 bedrooms   \n",
       "209             No  1 bathroom   \n",
       "\n",
       "                                           location           price  \n",
       "205                   , Kamloops V2E 1E9 BC, Canada  Please Contact  \n",
       "206  460 Dalgleish Dr, Kamloops, BC V2C 5W7, Canada         1550.00  \n",
       "207                   , Kamloops V2B 3E1 BC, Canada         1400.00  \n",
       "208                    , kamloops v2c1k7 BC, Canada         2650.00  \n",
       "209                   , Kamloops V1S 1A3 BC, Canada         2500.00  "
      ]
     },
     "execution_count": 925,
     "metadata": {},
     "output_type": "execute_result"
    }
   ],
   "source": [
    "read_in_rent_info.tail(5)"
   ]
  },
  {
   "cell_type": "markdown",
   "metadata": {},
   "source": [
    "## Remove bedrooms info not provided records"
   ]
  },
  {
   "cell_type": "code",
   "execution_count": 926,
   "metadata": {},
   "outputs": [],
   "source": [
    "level_one_cleaned = read_in_rent_info[read_in_rent_info.bedrooms!='No']"
   ]
  },
  {
   "cell_type": "code",
   "execution_count": 927,
   "metadata": {},
   "outputs": [
    {
     "data": {
      "text/html": [
       "<div>\n",
       "<table border=\"1\" class=\"dataframe\">\n",
       "  <thead>\n",
       "    <tr style=\"text-align: right;\">\n",
       "      <th></th>\n",
       "      <th>bathrooms</th>\n",
       "      <th>bedrooms</th>\n",
       "      <th>location</th>\n",
       "      <th>price</th>\n",
       "    </tr>\n",
       "  </thead>\n",
       "  <tbody>\n",
       "    <tr>\n",
       "      <th>0</th>\n",
       "      <td>1 bathroom</td>\n",
       "      <td>2 bedrooms</td>\n",
       "      <td>Linthorpe Road, Kamloops V2B 7S3 BC</td>\n",
       "      <td>1525.00</td>\n",
       "    </tr>\n",
       "    <tr>\n",
       "      <th>1</th>\n",
       "      <td>2 bathrooms</td>\n",
       "      <td>3 bedrooms</td>\n",
       "      <td>Merritt, BC V1K0B2, Canada</td>\n",
       "      <td>Please Contact</td>\n",
       "    </tr>\n",
       "    <tr>\n",
       "      <th>2</th>\n",
       "      <td>2 bathrooms</td>\n",
       "      <td>3 bedrooms</td>\n",
       "      <td>, Kamloops V2B 3T9 BC</td>\n",
       "      <td>1800.00</td>\n",
       "    </tr>\n",
       "    <tr>\n",
       "      <th>3</th>\n",
       "      <td>2 bathrooms</td>\n",
       "      <td>4 bedrooms</td>\n",
       "      <td>Ave NE, Salmon Arm, BC V1E 3G4, Canada</td>\n",
       "      <td>2800.00</td>\n",
       "    </tr>\n",
       "    <tr>\n",
       "      <th>4</th>\n",
       "      <td>1 bathroom</td>\n",
       "      <td>2 bedrooms</td>\n",
       "      <td>Kamloops, BC V2B 3K5, Canada</td>\n",
       "      <td>950.00</td>\n",
       "    </tr>\n",
       "  </tbody>\n",
       "</table>\n",
       "</div>"
      ],
      "text/plain": [
       "     bathrooms    bedrooms                                location  \\\n",
       "0   1 bathroom  2 bedrooms     Linthorpe Road, Kamloops V2B 7S3 BC   \n",
       "1  2 bathrooms  3 bedrooms              Merritt, BC V1K0B2, Canada   \n",
       "2  2 bathrooms  3 bedrooms                   , Kamloops V2B 3T9 BC   \n",
       "3  2 bathrooms  4 bedrooms  Ave NE, Salmon Arm, BC V1E 3G4, Canada   \n",
       "4   1 bathroom  2 bedrooms            Kamloops, BC V2B 3K5, Canada   \n",
       "\n",
       "            price  \n",
       "0         1525.00  \n",
       "1  Please Contact  \n",
       "2         1800.00  \n",
       "3         2800.00  \n",
       "4          950.00  "
      ]
     },
     "execution_count": 927,
     "metadata": {},
     "output_type": "execute_result"
    }
   ],
   "source": [
    "level_one_cleaned.head(5)"
   ]
  },
  {
   "cell_type": "code",
   "execution_count": 928,
   "metadata": {},
   "outputs": [
    {
     "data": {
      "text/plain": [
       "210"
      ]
     },
     "execution_count": 928,
     "metadata": {},
     "output_type": "execute_result"
    }
   ],
   "source": [
    "len(read_in_rent_info)"
   ]
  },
  {
   "cell_type": "markdown",
   "metadata": {},
   "source": [
    "## Remove price info not provided records"
   ]
  },
  {
   "cell_type": "code",
   "execution_count": 929,
   "metadata": {},
   "outputs": [],
   "source": [
    "level_two_cleaned = level_one_cleaned[read_in_rent_info.price != 'Please Contact']"
   ]
  },
  {
   "cell_type": "code",
   "execution_count": 930,
   "metadata": {},
   "outputs": [
    {
     "data": {
      "text/html": [
       "<div>\n",
       "<table border=\"1\" class=\"dataframe\">\n",
       "  <thead>\n",
       "    <tr style=\"text-align: right;\">\n",
       "      <th></th>\n",
       "      <th>bathrooms</th>\n",
       "      <th>bedrooms</th>\n",
       "      <th>location</th>\n",
       "      <th>price</th>\n",
       "    </tr>\n",
       "  </thead>\n",
       "  <tbody>\n",
       "    <tr>\n",
       "      <th>0</th>\n",
       "      <td>1 bathroom</td>\n",
       "      <td>2 bedrooms</td>\n",
       "      <td>Linthorpe Road, Kamloops V2B 7S3 BC</td>\n",
       "      <td>1525.00</td>\n",
       "    </tr>\n",
       "    <tr>\n",
       "      <th>2</th>\n",
       "      <td>2 bathrooms</td>\n",
       "      <td>3 bedrooms</td>\n",
       "      <td>, Kamloops V2B 3T9 BC</td>\n",
       "      <td>1800.00</td>\n",
       "    </tr>\n",
       "    <tr>\n",
       "      <th>3</th>\n",
       "      <td>2 bathrooms</td>\n",
       "      <td>4 bedrooms</td>\n",
       "      <td>Ave NE, Salmon Arm, BC V1E 3G4, Canada</td>\n",
       "      <td>2800.00</td>\n",
       "    </tr>\n",
       "    <tr>\n",
       "      <th>4</th>\n",
       "      <td>1 bathroom</td>\n",
       "      <td>2 bedrooms</td>\n",
       "      <td>Kamloops, BC V2B 3K5, Canada</td>\n",
       "      <td>950.00</td>\n",
       "    </tr>\n",
       "    <tr>\n",
       "      <th>5</th>\n",
       "      <td>1 bathroom</td>\n",
       "      <td>3 bedrooms</td>\n",
       "      <td>Airfield Rd, Barrière, BC V0E 1E0, Canada</td>\n",
       "      <td>1800.00</td>\n",
       "    </tr>\n",
       "  </tbody>\n",
       "</table>\n",
       "</div>"
      ],
      "text/plain": [
       "     bathrooms    bedrooms                                   location    price\n",
       "0   1 bathroom  2 bedrooms        Linthorpe Road, Kamloops V2B 7S3 BC  1525.00\n",
       "2  2 bathrooms  3 bedrooms                      , Kamloops V2B 3T9 BC  1800.00\n",
       "3  2 bathrooms  4 bedrooms     Ave NE, Salmon Arm, BC V1E 3G4, Canada  2800.00\n",
       "4   1 bathroom  2 bedrooms               Kamloops, BC V2B 3K5, Canada   950.00\n",
       "5   1 bathroom  3 bedrooms  Airfield Rd, Barrière, BC V0E 1E0, Canada  1800.00"
      ]
     },
     "execution_count": 930,
     "metadata": {},
     "output_type": "execute_result"
    }
   ],
   "source": [
    "level_two_cleaned.head(5)"
   ]
  },
  {
   "cell_type": "code",
   "execution_count": 931,
   "metadata": {},
   "outputs": [
    {
     "data": {
      "text/plain": [
       "154"
      ]
     },
     "execution_count": 931,
     "metadata": {},
     "output_type": "execute_result"
    }
   ],
   "source": [
    "len(level_two_cleaned)"
   ]
  },
  {
   "cell_type": "code",
   "execution_count": 932,
   "metadata": {},
   "outputs": [
    {
     "data": {
      "text/plain": [
       "'2 bedrooms'"
      ]
     },
     "execution_count": 932,
     "metadata": {},
     "output_type": "execute_result"
    }
   ],
   "source": [
    "level_two_cleaned.iloc[0][1]"
   ]
  },
  {
   "cell_type": "code",
   "execution_count": 933,
   "metadata": {},
   "outputs": [
    {
     "data": {
      "text/plain": [
       "'1 bathroom'"
      ]
     },
     "execution_count": 933,
     "metadata": {},
     "output_type": "execute_result"
    }
   ],
   "source": [
    "level_two_cleaned.iloc[0][0]"
   ]
  },
  {
   "cell_type": "code",
   "execution_count": 934,
   "metadata": {},
   "outputs": [],
   "source": [
    "for i in range(len(level_two_cleaned)):\n",
    "    level_two_cleaned.iloc[i][0]=level_two_cleaned.iloc[i][0].strip('bathrooms ')\n",
    "    level_two_cleaned.iloc[i][1]=level_two_cleaned.iloc[i][1].strip('bedrooms bath bedrooms and den')"
   ]
  },
  {
   "cell_type": "code",
   "execution_count": 935,
   "metadata": {},
   "outputs": [
    {
     "data": {
      "text/html": [
       "<div>\n",
       "<table border=\"1\" class=\"dataframe\">\n",
       "  <thead>\n",
       "    <tr style=\"text-align: right;\">\n",
       "      <th></th>\n",
       "      <th>bathrooms</th>\n",
       "      <th>bedrooms</th>\n",
       "      <th>location</th>\n",
       "      <th>price</th>\n",
       "    </tr>\n",
       "  </thead>\n",
       "  <tbody>\n",
       "    <tr>\n",
       "      <th>0</th>\n",
       "      <td>1</td>\n",
       "      <td>2</td>\n",
       "      <td>Linthorpe Road, Kamloops V2B 7S3 BC</td>\n",
       "      <td>1525.00</td>\n",
       "    </tr>\n",
       "    <tr>\n",
       "      <th>2</th>\n",
       "      <td>2</td>\n",
       "      <td>3</td>\n",
       "      <td>, Kamloops V2B 3T9 BC</td>\n",
       "      <td>1800.00</td>\n",
       "    </tr>\n",
       "    <tr>\n",
       "      <th>3</th>\n",
       "      <td>2</td>\n",
       "      <td>4</td>\n",
       "      <td>Ave NE, Salmon Arm, BC V1E 3G4, Canada</td>\n",
       "      <td>2800.00</td>\n",
       "    </tr>\n",
       "    <tr>\n",
       "      <th>4</th>\n",
       "      <td>1</td>\n",
       "      <td>2</td>\n",
       "      <td>Kamloops, BC V2B 3K5, Canada</td>\n",
       "      <td>950.00</td>\n",
       "    </tr>\n",
       "    <tr>\n",
       "      <th>5</th>\n",
       "      <td>1</td>\n",
       "      <td>3</td>\n",
       "      <td>Airfield Rd, Barrière, BC V0E 1E0, Canada</td>\n",
       "      <td>1800.00</td>\n",
       "    </tr>\n",
       "    <tr>\n",
       "      <th>6</th>\n",
       "      <td>1</td>\n",
       "      <td>1</td>\n",
       "      <td>992 Columbia St, Kamloops, BC V2C 2V9, Canada</td>\n",
       "      <td>1200.00</td>\n",
       "    </tr>\n",
       "    <tr>\n",
       "      <th>8</th>\n",
       "      <td>1</td>\n",
       "      <td>2</td>\n",
       "      <td>2082 Westsyde Rd, Kamloops, BC V2B 7C2, Canada</td>\n",
       "      <td>1050.00</td>\n",
       "    </tr>\n",
       "    <tr>\n",
       "      <th>9</th>\n",
       "      <td>1</td>\n",
       "      <td>1</td>\n",
       "      <td>2215 Doubletree Crescent, Kamloops, BC V2B 6E6...</td>\n",
       "      <td>1100.00</td>\n",
       "    </tr>\n",
       "    <tr>\n",
       "      <th>10</th>\n",
       "      <td>4</td>\n",
       "      <td>6</td>\n",
       "      <td>1924 Gloaming Dr, Kamloops, BC V1S 1R2, Canada</td>\n",
       "      <td>2300.00</td>\n",
       "    </tr>\n",
       "    <tr>\n",
       "      <th>12</th>\n",
       "      <td>1</td>\n",
       "      <td>2</td>\n",
       "      <td>1657 Selwyn Rd, Kamloops, BC V2E 1P1, Canada</td>\n",
       "      <td>1400.00</td>\n",
       "    </tr>\n",
       "  </tbody>\n",
       "</table>\n",
       "</div>"
      ],
      "text/plain": [
       "   bathrooms bedrooms                                           location  \\\n",
       "0          1        2                Linthorpe Road, Kamloops V2B 7S3 BC   \n",
       "2          2        3                              , Kamloops V2B 3T9 BC   \n",
       "3          2        4             Ave NE, Salmon Arm, BC V1E 3G4, Canada   \n",
       "4          1        2                       Kamloops, BC V2B 3K5, Canada   \n",
       "5          1        3          Airfield Rd, Barrière, BC V0E 1E0, Canada   \n",
       "6          1        1      992 Columbia St, Kamloops, BC V2C 2V9, Canada   \n",
       "8          1        2     2082 Westsyde Rd, Kamloops, BC V2B 7C2, Canada   \n",
       "9          1        1  2215 Doubletree Crescent, Kamloops, BC V2B 6E6...   \n",
       "10         4        6     1924 Gloaming Dr, Kamloops, BC V1S 1R2, Canada   \n",
       "12         1        2       1657 Selwyn Rd, Kamloops, BC V2E 1P1, Canada   \n",
       "\n",
       "      price  \n",
       "0   1525.00  \n",
       "2   1800.00  \n",
       "3   2800.00  \n",
       "4    950.00  \n",
       "5   1800.00  \n",
       "6   1200.00  \n",
       "8   1050.00  \n",
       "9   1100.00  \n",
       "10  2300.00  \n",
       "12  1400.00  "
      ]
     },
     "execution_count": 935,
     "metadata": {},
     "output_type": "execute_result"
    }
   ],
   "source": [
    "level_two_cleaned.head(10)"
   ]
  },
  {
   "cell_type": "code",
   "execution_count": 936,
   "metadata": {},
   "outputs": [],
   "source": [
    "for i in range(len(level_two_cleaned)):\n",
    "    if(level_two_cleaned.iloc[i][1]=='Bachelor or studi'):\n",
    "        level_two_cleaned.iloc[i][1]=1\n",
    "    else:\n",
    "        level_two_cleaned.iloc[i][1]=int(level_two_cleaned.iloc[i][1])"
   ]
  },
  {
   "cell_type": "code",
   "execution_count": 937,
   "metadata": {},
   "outputs": [],
   "source": [
    "for i in range(len(level_two_cleaned)):\n",
    "    try:\n",
    "        level_two_cleaned.iloc[i][0]=math.floor(int(level_two_cleaned.iloc[i][0]))\n",
    "    except:\n",
    "        level_two_cleaned.iloc[i][0]=1"
   ]
  },
  {
   "cell_type": "code",
   "execution_count": 938,
   "metadata": {},
   "outputs": [
    {
     "data": {
      "text/html": [
       "<div>\n",
       "<table border=\"1\" class=\"dataframe\">\n",
       "  <thead>\n",
       "    <tr style=\"text-align: right;\">\n",
       "      <th></th>\n",
       "      <th>bathrooms</th>\n",
       "      <th>bedrooms</th>\n",
       "      <th>location</th>\n",
       "      <th>price</th>\n",
       "    </tr>\n",
       "  </thead>\n",
       "  <tbody>\n",
       "    <tr>\n",
       "      <th>0</th>\n",
       "      <td>1</td>\n",
       "      <td>2</td>\n",
       "      <td>Linthorpe Road, Kamloops V2B 7S3 BC</td>\n",
       "      <td>1525.00</td>\n",
       "    </tr>\n",
       "    <tr>\n",
       "      <th>2</th>\n",
       "      <td>2</td>\n",
       "      <td>3</td>\n",
       "      <td>, Kamloops V2B 3T9 BC</td>\n",
       "      <td>1800.00</td>\n",
       "    </tr>\n",
       "    <tr>\n",
       "      <th>3</th>\n",
       "      <td>2</td>\n",
       "      <td>4</td>\n",
       "      <td>Ave NE, Salmon Arm, BC V1E 3G4, Canada</td>\n",
       "      <td>2800.00</td>\n",
       "    </tr>\n",
       "    <tr>\n",
       "      <th>4</th>\n",
       "      <td>1</td>\n",
       "      <td>2</td>\n",
       "      <td>Kamloops, BC V2B 3K5, Canada</td>\n",
       "      <td>950.00</td>\n",
       "    </tr>\n",
       "    <tr>\n",
       "      <th>5</th>\n",
       "      <td>1</td>\n",
       "      <td>3</td>\n",
       "      <td>Airfield Rd, Barrière, BC V0E 1E0, Canada</td>\n",
       "      <td>1800.00</td>\n",
       "    </tr>\n",
       "  </tbody>\n",
       "</table>\n",
       "</div>"
      ],
      "text/plain": [
       "  bathrooms bedrooms                                   location    price\n",
       "0         1        2        Linthorpe Road, Kamloops V2B 7S3 BC  1525.00\n",
       "2         2        3                      , Kamloops V2B 3T9 BC  1800.00\n",
       "3         2        4     Ave NE, Salmon Arm, BC V1E 3G4, Canada  2800.00\n",
       "4         1        2               Kamloops, BC V2B 3K5, Canada   950.00\n",
       "5         1        3  Airfield Rd, Barrière, BC V0E 1E0, Canada  1800.00"
      ]
     },
     "execution_count": 938,
     "metadata": {},
     "output_type": "execute_result"
    }
   ],
   "source": [
    "level_two_cleaned.head(5)"
   ]
  },
  {
   "cell_type": "code",
   "execution_count": 939,
   "metadata": {},
   "outputs": [
    {
     "data": {
      "text/plain": [
       "154"
      ]
     },
     "execution_count": 939,
     "metadata": {},
     "output_type": "execute_result"
    }
   ],
   "source": [
    "len(level_two_cleaned)"
   ]
  },
  {
   "cell_type": "code",
   "execution_count": 940,
   "metadata": {},
   "outputs": [],
   "source": [
    "bathroom_numbers=level_two_cleaned.iloc[:,0]"
   ]
  },
  {
   "cell_type": "code",
   "execution_count": 941,
   "metadata": {
    "collapsed": true
   },
   "outputs": [],
   "source": [
    "bedroom_numbers=level_two_cleaned.iloc[:,1]"
   ]
  },
  {
   "cell_type": "code",
   "execution_count": 942,
   "metadata": {},
   "outputs": [
    {
     "data": {
      "image/png": "[encoded data removed]",
      "text/plain": [
       "<matplotlib.figure.Figure at 0x119a9c6d8>"
      ]
     },
     "metadata": {},
     "output_type": "display_data"
    }
   ],
   "source": [
    "plt.hist(bathroom_numbers)\n",
    "plt.show()"
   ]
  },
  {
   "cell_type": "code",
   "execution_count": 943,
   "metadata": {},
   "outputs": [
    {
     "data": {
      "image/png": "[encoded data removed]",
      "text/plain": [
       "<matplotlib.figure.Figure at 0x119aa8978>"
      ]
     },
     "metadata": {},
     "output_type": "display_data"
    }
   ],
   "source": [
    "plt.hist(bedroom_numbers, bins='auto')\n",
    "plt.show()"
   ]
  },
  {
   "cell_type": "markdown",
   "metadata": {},
   "source": [
    "# Analyzing bedroom number price relationship"
   ]
  },
  {
   "cell_type": "code",
   "execution_count": 944,
   "metadata": {},
   "outputs": [
    {
     "data": {
      "text/html": [
       "<div>\n",
       "<table border=\"1\" class=\"dataframe\">\n",
       "  <thead>\n",
       "    <tr style=\"text-align: right;\">\n",
       "      <th></th>\n",
       "      <th>bathrooms</th>\n",
       "      <th>bedrooms</th>\n",
       "      <th>location</th>\n",
       "      <th>price</th>\n",
       "    </tr>\n",
       "  </thead>\n",
       "  <tbody>\n",
       "    <tr>\n",
       "      <th>0</th>\n",
       "      <td>1</td>\n",
       "      <td>2</td>\n",
       "      <td>Linthorpe Road, Kamloops V2B 7S3 BC</td>\n",
       "      <td>1525.00</td>\n",
       "    </tr>\n",
       "    <tr>\n",
       "      <th>2</th>\n",
       "      <td>2</td>\n",
       "      <td>3</td>\n",
       "      <td>, Kamloops V2B 3T9 BC</td>\n",
       "      <td>1800.00</td>\n",
       "    </tr>\n",
       "    <tr>\n",
       "      <th>3</th>\n",
       "      <td>2</td>\n",
       "      <td>4</td>\n",
       "      <td>Ave NE, Salmon Arm, BC V1E 3G4, Canada</td>\n",
       "      <td>2800.00</td>\n",
       "    </tr>\n",
       "    <tr>\n",
       "      <th>4</th>\n",
       "      <td>1</td>\n",
       "      <td>2</td>\n",
       "      <td>Kamloops, BC V2B 3K5, Canada</td>\n",
       "      <td>950.00</td>\n",
       "    </tr>\n",
       "    <tr>\n",
       "      <th>5</th>\n",
       "      <td>1</td>\n",
       "      <td>3</td>\n",
       "      <td>Airfield Rd, Barrière, BC V0E 1E0, Canada</td>\n",
       "      <td>1800.00</td>\n",
       "    </tr>\n",
       "  </tbody>\n",
       "</table>\n",
       "</div>"
      ],
      "text/plain": [
       "  bathrooms bedrooms                                   location    price\n",
       "0         1        2        Linthorpe Road, Kamloops V2B 7S3 BC  1525.00\n",
       "2         2        3                      , Kamloops V2B 3T9 BC  1800.00\n",
       "3         2        4     Ave NE, Salmon Arm, BC V1E 3G4, Canada  2800.00\n",
       "4         1        2               Kamloops, BC V2B 3K5, Canada   950.00\n",
       "5         1        3  Airfield Rd, Barrière, BC V0E 1E0, Canada  1800.00"
      ]
     },
     "execution_count": 944,
     "metadata": {},
     "output_type": "execute_result"
    }
   ],
   "source": [
    "level_two_cleaned.head(5)"
   ]
  },
  {
   "cell_type": "markdown",
   "metadata": {},
   "source": [
    "# Convert price to number type"
   ]
  },
  {
   "cell_type": "code",
   "execution_count": 945,
   "metadata": {},
   "outputs": [
    {
     "data": {
      "text/plain": [
       "'1525.00'"
      ]
     },
     "execution_count": 945,
     "metadata": {},
     "output_type": "execute_result"
    }
   ],
   "source": [
    "level_two_cleaned.iloc[0,3]"
   ]
  },
  {
   "cell_type": "code",
   "execution_count": 946,
   "metadata": {},
   "outputs": [
    {
     "name": "stderr",
     "output_type": "stream",
     "text": [
      "/Users/xiaosheng/anaconda/lib/python3.5/site-packages/pandas/core/indexing.py:141: SettingWithCopyWarning: \n",
      "A value is trying to be set on a copy of a slice from a DataFrame\n",
      "\n",
      "See the caveats in the documentation: http://pandas.pydata.org/pandas-docs/stable/indexing.html#indexing-view-versus-copy\n",
      "  self._setitem_with_indexer(indexer, value)\n",
      "/Users/xiaosheng/anaconda/lib/python3.5/site-packages/ipykernel_launcher.py:2: SettingWithCopyWarning: \n",
      "A value is trying to be set on a copy of a slice from a DataFrame\n",
      "\n",
      "See the caveats in the documentation: http://pandas.pydata.org/pandas-docs/stable/indexing.html#indexing-view-versus-copy\n",
      "  \n"
     ]
    }
   ],
   "source": [
    "for i in range(len(level_two_cleaned)):\n",
    "    level_two_cleaned.iloc[i,3]=float(level_two_cleaned.iloc[i,3])"
   ]
  },
  {
   "cell_type": "code",
   "execution_count": 947,
   "metadata": {},
   "outputs": [
    {
     "data": {
      "text/html": [
       "<div>\n",
       "<table border=\"1\" class=\"dataframe\">\n",
       "  <thead>\n",
       "    <tr style=\"text-align: right;\">\n",
       "      <th></th>\n",
       "      <th>bathrooms</th>\n",
       "      <th>bedrooms</th>\n",
       "      <th>location</th>\n",
       "      <th>price</th>\n",
       "    </tr>\n",
       "  </thead>\n",
       "  <tbody>\n",
       "    <tr>\n",
       "      <th>0</th>\n",
       "      <td>1</td>\n",
       "      <td>2</td>\n",
       "      <td>Linthorpe Road, Kamloops V2B 7S3 BC</td>\n",
       "      <td>1525</td>\n",
       "    </tr>\n",
       "    <tr>\n",
       "      <th>2</th>\n",
       "      <td>2</td>\n",
       "      <td>3</td>\n",
       "      <td>, Kamloops V2B 3T9 BC</td>\n",
       "      <td>1800</td>\n",
       "    </tr>\n",
       "    <tr>\n",
       "      <th>3</th>\n",
       "      <td>2</td>\n",
       "      <td>4</td>\n",
       "      <td>Ave NE, Salmon Arm, BC V1E 3G4, Canada</td>\n",
       "      <td>2800</td>\n",
       "    </tr>\n",
       "    <tr>\n",
       "      <th>4</th>\n",
       "      <td>1</td>\n",
       "      <td>2</td>\n",
       "      <td>Kamloops, BC V2B 3K5, Canada</td>\n",
       "      <td>950</td>\n",
       "    </tr>\n",
       "    <tr>\n",
       "      <th>5</th>\n",
       "      <td>1</td>\n",
       "      <td>3</td>\n",
       "      <td>Airfield Rd, Barrière, BC V0E 1E0, Canada</td>\n",
       "      <td>1800</td>\n",
       "    </tr>\n",
       "  </tbody>\n",
       "</table>\n",
       "</div>"
      ],
      "text/plain": [
       "  bathrooms bedrooms                                   location price\n",
       "0         1        2        Linthorpe Road, Kamloops V2B 7S3 BC  1525\n",
       "2         2        3                      , Kamloops V2B 3T9 BC  1800\n",
       "3         2        4     Ave NE, Salmon Arm, BC V1E 3G4, Canada  2800\n",
       "4         1        2               Kamloops, BC V2B 3K5, Canada   950\n",
       "5         1        3  Airfield Rd, Barrière, BC V0E 1E0, Canada  1800"
      ]
     },
     "execution_count": 947,
     "metadata": {},
     "output_type": "execute_result"
    }
   ],
   "source": [
    "level_two_cleaned.head(5)"
   ]
  },
  {
   "cell_type": "code",
   "execution_count": 948,
   "metadata": {},
   "outputs": [],
   "source": [
    "level_two_cleaned.to_csv('cleaned_data.csv',sep=',',header=None )"
   ]
  },
  {
   "cell_type": "code",
   "execution_count": 949,
   "metadata": {
    "collapsed": true
   },
   "outputs": [],
   "source": [
    "cleaned_data=pd.read_csv('cleaned_data.csv',  names = [\"bathrooms\", \"bedrooms\", \"location\", \"price\"])"
   ]
  },
  {
   "cell_type": "code",
   "execution_count": 950,
   "metadata": {},
   "outputs": [
    {
     "data": {
      "text/html": [
       "<div>\n",
       "<table border=\"1\" class=\"dataframe\">\n",
       "  <thead>\n",
       "    <tr style=\"text-align: right;\">\n",
       "      <th></th>\n",
       "      <th>bathrooms</th>\n",
       "      <th>bedrooms</th>\n",
       "      <th>location</th>\n",
       "      <th>price</th>\n",
       "    </tr>\n",
       "  </thead>\n",
       "  <tbody>\n",
       "    <tr>\n",
       "      <th>0</th>\n",
       "      <td>1</td>\n",
       "      <td>2</td>\n",
       "      <td>Linthorpe Road, Kamloops V2B 7S3 BC</td>\n",
       "      <td>1525.0</td>\n",
       "    </tr>\n",
       "    <tr>\n",
       "      <th>2</th>\n",
       "      <td>2</td>\n",
       "      <td>3</td>\n",
       "      <td>, Kamloops V2B 3T9 BC</td>\n",
       "      <td>1800.0</td>\n",
       "    </tr>\n",
       "    <tr>\n",
       "      <th>3</th>\n",
       "      <td>2</td>\n",
       "      <td>4</td>\n",
       "      <td>Ave NE, Salmon Arm, BC V1E 3G4, Canada</td>\n",
       "      <td>2800.0</td>\n",
       "    </tr>\n",
       "    <tr>\n",
       "      <th>4</th>\n",
       "      <td>1</td>\n",
       "      <td>2</td>\n",
       "      <td>Kamloops, BC V2B 3K5, Canada</td>\n",
       "      <td>950.0</td>\n",
       "    </tr>\n",
       "    <tr>\n",
       "      <th>5</th>\n",
       "      <td>1</td>\n",
       "      <td>3</td>\n",
       "      <td>Airfield Rd, Barrière, BC V0E 1E0, Canada</td>\n",
       "      <td>1800.0</td>\n",
       "    </tr>\n",
       "  </tbody>\n",
       "</table>\n",
       "</div>"
      ],
      "text/plain": [
       "   bathrooms  bedrooms                                   location   price\n",
       "0          1         2        Linthorpe Road, Kamloops V2B 7S3 BC  1525.0\n",
       "2          2         3                      , Kamloops V2B 3T9 BC  1800.0\n",
       "3          2         4     Ave NE, Salmon Arm, BC V1E 3G4, Canada  2800.0\n",
       "4          1         2               Kamloops, BC V2B 3K5, Canada   950.0\n",
       "5          1         3  Airfield Rd, Barrière, BC V0E 1E0, Canada  1800.0"
      ]
     },
     "execution_count": 950,
     "metadata": {},
     "output_type": "execute_result"
    }
   ],
   "source": [
    "cleaned_data.head(5)"
   ]
  },
  {
   "cell_type": "code",
   "execution_count": 951,
   "metadata": {},
   "outputs": [
    {
     "data": {
      "text/plain": [
       "154"
      ]
     },
     "execution_count": 951,
     "metadata": {},
     "output_type": "execute_result"
    }
   ],
   "source": [
    "len(cleaned_data)"
   ]
  },
  {
   "cell_type": "code",
   "execution_count": 952,
   "metadata": {},
   "outputs": [
    {
     "data": {
      "text/plain": [
       "2"
      ]
     },
     "execution_count": 952,
     "metadata": {},
     "output_type": "execute_result"
    }
   ],
   "source": [
    "cleaned_data.iloc[0,1]"
   ]
  },
  {
   "cell_type": "code",
   "execution_count": 953,
   "metadata": {},
   "outputs": [
    {
     "data": {
      "text/plain": [
       "1525.0"
      ]
     },
     "execution_count": 953,
     "metadata": {},
     "output_type": "execute_result"
    }
   ],
   "source": [
    "cleaned_data.iloc[0,3]"
   ]
  },
  {
   "cell_type": "code",
   "execution_count": 1008,
   "metadata": {
    "collapsed": true
   },
   "outputs": [],
   "source": [
    "bedroom_price_pair={}\n",
    "for i in range(len(cleaned_data)):\n",
    "    if(cleaned_data.iloc[i,1] in bedroom_price_pair):\n",
    "        bedroom_price_pair[cleaned_data.iloc[i,1]].append(cleaned_data.iloc[i,3])\n",
    "    else:\n",
    "        bedroom_price_pair[cleaned_data.iloc[i,1]] =[cleaned_data.iloc[i,3]]"
   ]
  },
  {
   "cell_type": "markdown",
   "metadata": {},
   "source": [
    "## Analyzing one bedroom housing "
   ]
  },
  {
   "cell_type": "code",
   "execution_count": 1009,
   "metadata": {},
   "outputs": [
    {
     "data": {
      "text/plain": [
       "35"
      ]
     },
     "execution_count": 1009,
     "metadata": {},
     "output_type": "execute_result"
    }
   ],
   "source": [
    "len(bedroom_price_pair[1])"
   ]
  },
  {
   "cell_type": "code",
   "execution_count": 1010,
   "metadata": {
    "scrolled": true
   },
   "outputs": [
    {
     "data": {
      "text/plain": [
       "992.17142857142858"
      ]
     },
     "execution_count": 1010,
     "metadata": {},
     "output_type": "execute_result"
    }
   ],
   "source": [
    "np.mean(bedroom_price_pair[1])"
   ]
  },
  {
   "cell_type": "code",
   "execution_count": 1011,
   "metadata": {},
   "outputs": [
    {
     "data": {
      "text/plain": [
       "2500.0"
      ]
     },
     "execution_count": 1011,
     "metadata": {},
     "output_type": "execute_result"
    }
   ],
   "source": [
    "np.max(bedroom_price_pair[1])"
   ]
  },
  {
   "cell_type": "code",
   "execution_count": 1012,
   "metadata": {},
   "outputs": [
    {
     "data": {
      "text/plain": [
       "1.0"
      ]
     },
     "execution_count": 1012,
     "metadata": {},
     "output_type": "execute_result"
    }
   ],
   "source": [
    "np.min(bedroom_price_pair[1])"
   ]
  },
  {
   "cell_type": "code",
   "execution_count": 1013,
   "metadata": {},
   "outputs": [
    {
     "data": {
      "text/plain": [
       "11"
      ]
     },
     "execution_count": 1013,
     "metadata": {},
     "output_type": "execute_result"
    }
   ],
   "source": [
    "bedroom_price_pair[1].index(1)"
   ]
  },
  {
   "cell_type": "code",
   "execution_count": 1014,
   "metadata": {},
   "outputs": [],
   "source": [
    "del bedroom_price_pair[1][11]"
   ]
  },
  {
   "cell_type": "code",
   "execution_count": 1015,
   "metadata": {},
   "outputs": [
    {
     "data": {
      "text/plain": [
       "300.0"
      ]
     },
     "execution_count": 1015,
     "metadata": {},
     "output_type": "execute_result"
    }
   ],
   "source": [
    "np.min(bedroom_price_pair[1])"
   ]
  },
  {
   "cell_type": "markdown",
   "metadata": {},
   "source": [
    "## Average price for one room"
   ]
  },
  {
   "cell_type": "code",
   "execution_count": 1016,
   "metadata": {},
   "outputs": [
    {
     "data": {
      "text/plain": [
       "1021.3235294117648"
      ]
     },
     "execution_count": 1016,
     "metadata": {},
     "output_type": "execute_result"
    }
   ],
   "source": [
    "np.mean(bedroom_price_pair[1])"
   ]
  },
  {
   "cell_type": "markdown",
   "metadata": {},
   "source": [
    "### Price distribution for one room"
   ]
  },
  {
   "cell_type": "code",
   "execution_count": 1017,
   "metadata": {},
   "outputs": [
    {
     "data": {
      "image/png": "[encoded data removed]",
      "text/plain": [
       "<matplotlib.figure.Figure at 0x1196554e0>"
      ]
     },
     "metadata": {},
     "output_type": "display_data"
    }
   ],
   "source": [
    "plt.hist(bedroom_price_pair[1])\n",
    "plt.show()"
   ]
  },
  {
   "cell_type": "code",
   "execution_count": null,
   "metadata": {
    "collapsed": true
   },
   "outputs": [],
   "source": []
  },
  {
   "cell_type": "markdown",
   "metadata": {},
   "source": [
    "## Analyzing two bedroom housing "
   ]
  },
  {
   "cell_type": "code",
   "execution_count": 1018,
   "metadata": {},
   "outputs": [
    {
     "data": {
      "text/plain": [
       "49"
      ]
     },
     "execution_count": 1018,
     "metadata": {},
     "output_type": "execute_result"
    }
   ],
   "source": [
    "len(bedroom_price_pair[2])"
   ]
  },
  {
   "cell_type": "code",
   "execution_count": 1019,
   "metadata": {},
   "outputs": [
    {
     "data": {
      "text/plain": [
       "1650.0"
      ]
     },
     "execution_count": 1019,
     "metadata": {},
     "output_type": "execute_result"
    }
   ],
   "source": [
    "np.max(bedroom_price_pair[2])"
   ]
  },
  {
   "cell_type": "code",
   "execution_count": 1020,
   "metadata": {},
   "outputs": [
    {
     "data": {
      "text/plain": [
       "585.0"
      ]
     },
     "execution_count": 1020,
     "metadata": {},
     "output_type": "execute_result"
    }
   ],
   "source": [
    "np.min(bedroom_price_pair[2])"
   ]
  },
  {
   "cell_type": "code",
   "execution_count": 1021,
   "metadata": {},
   "outputs": [
    {
     "data": {
      "text/plain": [
       "1323.7755102040817"
      ]
     },
     "execution_count": 1021,
     "metadata": {},
     "output_type": "execute_result"
    }
   ],
   "source": [
    "np.mean(bedroom_price_pair[2])"
   ]
  },
  {
   "cell_type": "markdown",
   "metadata": {},
   "source": [
    "## Average price for one room at renting two bedroom house"
   ]
  },
  {
   "cell_type": "code",
   "execution_count": 1022,
   "metadata": {},
   "outputs": [
    {
     "data": {
      "text/plain": [
       "661.88775510204084"
      ]
     },
     "execution_count": 1022,
     "metadata": {},
     "output_type": "execute_result"
    }
   ],
   "source": [
    "np.mean(bedroom_price_pair[2])/2"
   ]
  },
  {
   "cell_type": "markdown",
   "metadata": {},
   "source": [
    "### Price distribution for one room"
   ]
  },
  {
   "cell_type": "code",
   "execution_count": 1023,
   "metadata": {},
   "outputs": [
    {
     "data": {
      "image/png": "[encoded data removed]",
      "text/plain": [
       "<matplotlib.figure.Figure at 0x119b883c8>"
      ]
     },
     "metadata": {},
     "output_type": "display_data"
    }
   ],
   "source": [
    "one_bedroom_price=[]\n",
    "for val in bedroom_price_pair[2]:\n",
    "    one_bedroom_price.append(val/2)\n",
    "plt.hist(one_bedroom_price)\n",
    "plt.show()"
   ]
  },
  {
   "cell_type": "code",
   "execution_count": null,
   "metadata": {
    "collapsed": true
   },
   "outputs": [],
   "source": []
  },
  {
   "cell_type": "markdown",
   "metadata": {},
   "source": [
    "## Analyzing three bedroom housing "
   ]
  },
  {
   "cell_type": "code",
   "execution_count": 1024,
   "metadata": {},
   "outputs": [
    {
     "data": {
      "text/plain": [
       "46"
      ]
     },
     "execution_count": 1024,
     "metadata": {},
     "output_type": "execute_result"
    }
   ],
   "source": [
    "len(bedroom_price_pair[3])"
   ]
  },
  {
   "cell_type": "code",
   "execution_count": 1025,
   "metadata": {},
   "outputs": [
    {
     "data": {
      "text/plain": [
       "1779.7826086956522"
      ]
     },
     "execution_count": 1025,
     "metadata": {},
     "output_type": "execute_result"
    }
   ],
   "source": [
    "np.mean(bedroom_price_pair[3])"
   ]
  },
  {
   "cell_type": "code",
   "execution_count": 1026,
   "metadata": {},
   "outputs": [
    {
     "data": {
      "text/plain": [
       "2500.0"
      ]
     },
     "execution_count": 1026,
     "metadata": {},
     "output_type": "execute_result"
    }
   ],
   "source": [
    "np.max(bedroom_price_pair[3])"
   ]
  },
  {
   "cell_type": "code",
   "execution_count": 1027,
   "metadata": {},
   "outputs": [
    {
     "data": {
      "text/plain": [
       "1250.0"
      ]
     },
     "execution_count": 1027,
     "metadata": {},
     "output_type": "execute_result"
    }
   ],
   "source": [
    "np.min(bedroom_price_pair[3])"
   ]
  },
  {
   "cell_type": "markdown",
   "metadata": {},
   "source": [
    "## Average price for one room at renting three bedroom house"
   ]
  },
  {
   "cell_type": "code",
   "execution_count": 1028,
   "metadata": {},
   "outputs": [
    {
     "data": {
      "text/plain": [
       "593.26086956521738"
      ]
     },
     "execution_count": 1028,
     "metadata": {},
     "output_type": "execute_result"
    }
   ],
   "source": [
    "np.mean(bedroom_price_pair[3])/3"
   ]
  },
  {
   "cell_type": "markdown",
   "metadata": {},
   "source": [
    "### Price distribution for one room"
   ]
  },
  {
   "cell_type": "code",
   "execution_count": 1029,
   "metadata": {},
   "outputs": [
    {
     "data": {
      "image/png": "[encoded data removed]",
      "text/plain": [
       "<matplotlib.figure.Figure at 0x119613cf8>"
      ]
     },
     "metadata": {},
     "output_type": "display_data"
    }
   ],
   "source": [
    "one_bedroom_price=[]\n",
    "for val in bedroom_price_pair[3]:\n",
    "    one_bedroom_price.append(val/3)\n",
    "plt.hist(one_bedroom_price)\n",
    "plt.show()"
   ]
  },
  {
   "cell_type": "code",
   "execution_count": null,
   "metadata": {
    "collapsed": true
   },
   "outputs": [],
   "source": []
  },
  {
   "cell_type": "markdown",
   "metadata": {},
   "source": [
    "## Analyzing four bedroom housing "
   ]
  },
  {
   "cell_type": "code",
   "execution_count": 1030,
   "metadata": {},
   "outputs": [
    {
     "data": {
      "text/plain": [
       "21"
      ]
     },
     "execution_count": 1030,
     "metadata": {},
     "output_type": "execute_result"
    }
   ],
   "source": [
    "len(bedroom_price_pair[4])"
   ]
  },
  {
   "cell_type": "code",
   "execution_count": 1031,
   "metadata": {},
   "outputs": [
    {
     "data": {
      "text/plain": [
       "2228.8095238095239"
      ]
     },
     "execution_count": 1031,
     "metadata": {},
     "output_type": "execute_result"
    }
   ],
   "source": [
    "np.mean(bedroom_price_pair[4])"
   ]
  },
  {
   "cell_type": "code",
   "execution_count": 1032,
   "metadata": {},
   "outputs": [
    {
     "data": {
      "text/plain": [
       "3250.0"
      ]
     },
     "execution_count": 1032,
     "metadata": {},
     "output_type": "execute_result"
    }
   ],
   "source": [
    "np.max(bedroom_price_pair[4])"
   ]
  },
  {
   "cell_type": "code",
   "execution_count": 1033,
   "metadata": {},
   "outputs": [
    {
     "data": {
      "text/plain": [
       "1600.0"
      ]
     },
     "execution_count": 1033,
     "metadata": {},
     "output_type": "execute_result"
    }
   ],
   "source": [
    "np.min(bedroom_price_pair[4])"
   ]
  },
  {
   "cell_type": "markdown",
   "metadata": {},
   "source": [
    "## Average price for one room at renting four bedroom house"
   ]
  },
  {
   "cell_type": "code",
   "execution_count": 1034,
   "metadata": {},
   "outputs": [
    {
     "data": {
      "text/plain": [
       "557.20238095238096"
      ]
     },
     "execution_count": 1034,
     "metadata": {},
     "output_type": "execute_result"
    }
   ],
   "source": [
    "np.mean(bedroom_price_pair[4])/4"
   ]
  },
  {
   "cell_type": "markdown",
   "metadata": {},
   "source": [
    "### Price distribution for one room"
   ]
  },
  {
   "cell_type": "code",
   "execution_count": 1035,
   "metadata": {},
   "outputs": [
    {
     "data": {
      "image/png": "[encoded data removed]",
      "text/plain": [
       "<matplotlib.figure.Figure at 0x11a11d0f0>"
      ]
     },
     "metadata": {},
     "output_type": "display_data"
    }
   ],
   "source": [
    "one_bedroom_price=[]\n",
    "for val in bedroom_price_pair[4]:\n",
    "    one_bedroom_price.append(val/4)\n",
    "plt.hist(one_bedroom_price)\n",
    "plt.show()"
   ]
  },
  {
   "cell_type": "markdown",
   "metadata": {},
   "source": [
    "## Analyzing five bedroom housing "
   ]
  },
  {
   "cell_type": "code",
   "execution_count": 1036,
   "metadata": {},
   "outputs": [
    {
     "data": {
      "text/plain": [
       "1"
      ]
     },
     "execution_count": 1036,
     "metadata": {},
     "output_type": "execute_result"
    }
   ],
   "source": [
    "len(bedroom_price_pair[5])"
   ]
  },
  {
   "cell_type": "code",
   "execution_count": 1037,
   "metadata": {},
   "outputs": [
    {
     "data": {
      "text/plain": [
       "1850.0"
      ]
     },
     "execution_count": 1037,
     "metadata": {},
     "output_type": "execute_result"
    }
   ],
   "source": [
    "np.mean(bedroom_price_pair[5])"
   ]
  },
  {
   "cell_type": "code",
   "execution_count": 1038,
   "metadata": {},
   "outputs": [
    {
     "data": {
      "text/plain": [
       "1850.0"
      ]
     },
     "execution_count": 1038,
     "metadata": {},
     "output_type": "execute_result"
    }
   ],
   "source": [
    "np.max(bedroom_price_pair[5])"
   ]
  },
  {
   "cell_type": "code",
   "execution_count": 1039,
   "metadata": {},
   "outputs": [
    {
     "data": {
      "text/plain": [
       "1850.0"
      ]
     },
     "execution_count": 1039,
     "metadata": {},
     "output_type": "execute_result"
    }
   ],
   "source": [
    "np.min(bedroom_price_pair[5])"
   ]
  },
  {
   "cell_type": "markdown",
   "metadata": {},
   "source": [
    "## Average price for one room at renting five bedroom house"
   ]
  },
  {
   "cell_type": "code",
   "execution_count": 1040,
   "metadata": {},
   "outputs": [
    {
     "data": {
      "text/plain": [
       "370.0"
      ]
     },
     "execution_count": 1040,
     "metadata": {},
     "output_type": "execute_result"
    }
   ],
   "source": [
    "np.mean(bedroom_price_pair[5])/5"
   ]
  },
  {
   "cell_type": "markdown",
   "metadata": {},
   "source": [
    "### Price distribution for one room"
   ]
  },
  {
   "cell_type": "code",
   "execution_count": 1041,
   "metadata": {},
   "outputs": [
    {
     "data": {
      "image/png": "[encoded data removed]",
      "text/plain": [
       "<matplotlib.figure.Figure at 0x10b110eb8>"
      ]
     },
     "metadata": {},
     "output_type": "display_data"
    }
   ],
   "source": [
    "one_bedroom_price=[]\n",
    "for val in bedroom_price_pair[5]:\n",
    "    one_bedroom_price.append(val/5)\n",
    "plt.hist(one_bedroom_price)\n",
    "plt.show()"
   ]
  },
  {
   "cell_type": "code",
   "execution_count": null,
   "metadata": {
    "collapsed": true
   },
   "outputs": [],
   "source": []
  },
  {
   "cell_type": "markdown",
   "metadata": {},
   "source": [
    "# Conclusion"
   ]
  },
  {
   "cell_type": "markdown",
   "metadata": {},
   "source": [
    "We can expect that on average in Kamloops region it costs an individule less if rent a house with more rooms.\n",
    "\n",
    "Note:<br>\n",
    "    ```` Above analysis did not consider the number of bathrooms and location relationship to house renting price\n",
    "\n",
    "This is a personal project on scraping data from web and analyzing data\n"
   ]
  },
  {
   "cell_type": "code",
   "execution_count": null,
   "metadata": {
    "collapsed": true
   },
   "outputs": [],
   "source": []
  },
  {
   "cell_type": "code",
   "execution_count": null,
   "metadata": {
    "collapsed": true
   },
   "outputs": [],
   "source": []
  },
  {
   "cell_type": "code",
   "execution_count": null,
   "metadata": {
    "collapsed": true
   },
   "outputs": [],
   "source": []
  },
  {
   "cell_type": "code",
   "execution_count": null,
   "metadata": {
    "collapsed": true
   },
   "outputs": [],
   "source": []
  },
  {
   "cell_type": "code",
   "execution_count": null,
   "metadata": {
    "collapsed": true
   },
   "outputs": [],
   "source": []
  },
  {
   "cell_type": "code",
   "execution_count": null,
   "metadata": {
    "collapsed": true
   },
   "outputs": [],
   "source": []
  },
  {
   "cell_type": "code",
   "execution_count": null,
   "metadata": {
    "collapsed": true
   },
   "outputs": [],
   "source": []
  },
  {
   "cell_type": "code",
   "execution_count": null,
   "metadata": {
    "collapsed": true
   },
   "outputs": [],
   "source": []
  }
 ],
 "metadata": {
  "kernelspec": {
   "display_name": "Python 3",
   "language": "python",
   "name": "python3"
  },
  "language_info": {
   "codemirror_mode": {
    "name": "ipython",
    "version": 3
   },
   "file_extension": ".py",
   "mimetype": "text/x-python",
   "name": "python",
   "nbconvert_exporter": "python",
   "pygments_lexer": "ipython3",
   "version": "3.5.3"
  }
 },
 "nbformat": 4,
 "nbformat_minor": 2
}
