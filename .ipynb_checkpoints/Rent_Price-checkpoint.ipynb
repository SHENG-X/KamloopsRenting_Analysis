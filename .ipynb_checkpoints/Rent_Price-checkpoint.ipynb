{
 "cells": [
  {
   "cell_type": "code",
   "execution_count": 64,
   "metadata": {
    "collapsed": true
   },
   "outputs": [],
   "source": [
    "from bs4 import BeautifulSoup\n",
    "import urllib.request\n",
    "import numpy as np"
   ]
  },
  {
   "cell_type": "code",
   "execution_count": null,
   "metadata": {
    "collapsed": true
   },
   "outputs": [],
   "source": []
  },
  {
   "cell_type": "code",
   "execution_count": 280,
   "metadata": {
    "collapsed": true
   },
   "outputs": [],
   "source": [
    "with urllib.request.urlopen('https://www.kijiji.ca/b-house-rental/prince-george/page-1/c43l1700143') as response:\n",
    "   html_doc = response.read()"
   ]
  },
  {
   "cell_type": "code",
   "execution_count": 281,
   "metadata": {
    "collapsed": true
   },
   "outputs": [],
   "source": [
    "soup = BeautifulSoup(html_doc, 'html.parser')"
   ]
  },
  {
   "cell_type": "code",
   "execution_count": 282,
   "metadata": {},
   "outputs": [
    {
     "data": {
      "text/plain": [
       "[<div class=\"price\">\n",
       "                             $1,500.00</div>, <div class=\"price\">\n",
       "                             $1,400.00</div>, <div class=\"price\">\n",
       "                             $1,150.00</div>, <div class=\"price\">\n",
       "                             $750.00</div>, <div class=\"price\">\n",
       "                             $1,400.00</div>, <div class=\"price\">\n",
       "                             $1,250.00</div>, <div class=\"price\">\n",
       "                             $1,200.00</div>, <div class=\"price\">\n",
       "                             $860.00</div>, <div class=\"price\">\n",
       "                             $1,360.00</div>, <div class=\"price\">\n",
       "                             $950.00</div>, <div class=\"price\">\n",
       "                             $1,350.00</div>, <div class=\"price\">\n",
       "                             $2,100.00</div>, <div class=\"price\">\n",
       "                             $900.00</div>, <div class=\"price\">\n",
       "                             $1,575.00</div>, <div class=\"price\">\n",
       "                             $1,600.00</div>, <div class=\"price\">\n",
       "                             $2,000.00</div>, <div class=\"price\">\n",
       "                             $1,850.00</div>, <div class=\"price\">\n",
       "                              Please Contact</div>, <div class=\"price\">\n",
       "                             $1,000.00</div>, <div class=\"price\">\n",
       "                             $1,600.00</div>, <div class=\"price\">\n",
       "                             $1,350.00</div>, <div class=\"price\">\n",
       "                              Please Contact</div>]"
      ]
     },
     "execution_count": 282,
     "metadata": {},
     "output_type": "execute_result"
    }
   ],
   "source": [
    "soup.select('.price')"
   ]
  },
  {
   "cell_type": "code",
   "execution_count": 94,
   "metadata": {},
   "outputs": [
    {
     "name": "stdout",
     "output_type": "stream",
     "text": [
      "800.0\n"
     ]
    }
   ],
   "source": [
    "print(800.00)"
   ]
  },
  {
   "cell_type": "code",
   "execution_count": 307,
   "metadata": {},
   "outputs": [
    {
     "name": "stdout",
     "output_type": "stream",
     "text": [
      "['1525.00', '2800.00', '950.00', '1800.00', '1200.00', 'Please Contact', '1050.00', '1100.00', '2300.00', 'Please Contact', '1400.00', '1200.00', '1400.00', 'Please Contact', '2100.00', '1600.00', '1400.00', '2300.00', '1550.00', '1000.00', '1050.00', '1525.00', '2800.00', '950.00', '1800.00', '1200.00', 'Please Contact', '1050.00', '1100.00', '2300.00', 'Please Contact', '1400.00', '1200.00', '1400.00', 'Please Contact', '2100.00', '1600.00', '1400.00', '2300.00', '1550.00', '1000.00', '1050.00', '1525.00', '2200.00', '2000.00', '600.00', '1900.00', '1300.00', '1350.00', '1450.00', '1800.00', '1700.00', '1800.00', 'Please Contact', '2250.00', '1550.00', 'Please Contact', '1420.00', '1350.00', '1000.00', '1775.00', '2000.00', '900.00', '1525.00', '775.00', '1400.00', '1150.00', 'Please Contact', '1525.00', '1250.00', 'Please Contact', '1150.00', '1600.00', '2000.00', 'Please Contact', '1000.00', '1300.00', '1800.00', 'Please Contact', 'Please Contact', '1380.00', '2200.00', '2000.00', '1200.00', '1525.00', 'Please Contact', '1.00', '1450.00', 'Please Contact', 'Please Contact', '1650.00', '1600.00', '900.00', '1800.00', '700.00', '1700.00', '1000.00', 'Please Contact', '1450.00', '1800.00', 'Please Contact', '1000.00', '1100.00', '2000.00', '2600.00', '1525.00', '900.00', '800.00', 'Please Contact', 'Please Contact', '1200.00', '1400.00', '1400.00', '650.00', 'Please Contact', '1750.00', '1200.00', 'Please Contact', '3250.00', '1300.00', '875.00', '585.00', '1250.00', '2000.00', 'Please Contact', '1400.00', '1525.00', 'Please Contact', '1100.00', '1100.00', '800.00', '1400.00', 'Please Contact', '2000.00', '800.00', 'Please Contact', '2000.00', '2400.00', 'Please Contact', '1800.00', '750.00', '2000.00', 'Please Contact', '1500.00', '2250.00', '2200.00', 'Please Contact', '1525.00', 'Please Contact', '800.00', '1200.00', '1100.00', '2000.00', 'Please Contact', 'Please Contact', '1000.00', '1800.00', 'Please Contact', 'Please Contact', 'Please Contact', 'Please Contact', 'Please Contact', 'Please Contact', 'Please Contact', '1200.00', '650.00', 'Please Contact', '1600.00', '1525.00', '1850.00', '1750.00', '2000.00', '300.00', '2000.00', 'Please Contact', '2200.00', 'Please Contact', '2000.00', '2310.00', 'Please Contact', 'Please Contact', '2500.00', '1775.00', 'Please Contact', '2095.00', 'Please Contact', '900.00', 'Please Contact', '1500.00', '1525.00', '850.00', 'Please Contact', 'Please Contact', 'Please Contact', '1300.00', '2000.00', '1300.00', 'Please Contact', 'Please Contact', 'Please Contact', '1500.00', '1550.00', 'Please Contact', '1550.00', '1400.00', '2650.00', '2500.00', 'Please Contact', '1200.00', '2700.00']\n"
     ]
    }
   ],
   "source": [
    "pc=[]\n",
    "for i in range(10):\n",
    "    url='https://www.kijiji.ca/b-house-rental/kamloops/page-'+str(i)+'/c43l1700227'\n",
    "    with urllib.request.urlopen(url) as response:\n",
    "        html_doc = response.read()\n",
    "        sp = BeautifulSoup(html_doc, 'html.parser')\n",
    "        for p in sp.select('div.info .info-container .price'):\n",
    "            pc.append(p.get_text().strip().strip('$').replace(',',''))\n",
    "print(pc)"
   ]
  },
  {
   "cell_type": "code",
   "execution_count": 308,
   "metadata": {},
   "outputs": [
    {
     "data": {
      "text/plain": [
       "210"
      ]
     },
     "execution_count": 308,
     "metadata": {},
     "output_type": "execute_result"
    }
   ],
   "source": [
    "len(pc)"
   ]
  },
  {
   "cell_type": "code",
   "execution_count": 309,
   "metadata": {},
   "outputs": [],
   "source": [
    "pc2=pc"
   ]
  },
  {
   "cell_type": "code",
   "execution_count": 310,
   "metadata": {},
   "outputs": [],
   "source": [
    "count = len(pc2)-1\n",
    "while(count>=0):\n",
    "    if(pc2[count]=='Please Contact'):\n",
    "        del pc2[count]\n",
    "    else:\n",
    "        pc2[count]=float(pc2[count])\n",
    "    count-=1\n",
    "    "
   ]
  },
  {
   "cell_type": "code",
   "execution_count": 311,
   "metadata": {},
   "outputs": [
    {
     "data": {
      "text/plain": [
       "[1525.0,\n",
       " 2800.0,\n",
       " 950.0,\n",
       " 1800.0,\n",
       " 1200.0,\n",
       " 1050.0,\n",
       " 1100.0,\n",
       " 2300.0,\n",
       " 1400.0,\n",
       " 1200.0,\n",
       " 1400.0,\n",
       " 2100.0,\n",
       " 1600.0,\n",
       " 1400.0,\n",
       " 2300.0,\n",
       " 1550.0,\n",
       " 1000.0,\n",
       " 1050.0,\n",
       " 1525.0,\n",
       " 2800.0,\n",
       " 950.0,\n",
       " 1800.0,\n",
       " 1200.0,\n",
       " 1050.0,\n",
       " 1100.0,\n",
       " 2300.0,\n",
       " 1400.0,\n",
       " 1200.0,\n",
       " 1400.0,\n",
       " 2100.0,\n",
       " 1600.0,\n",
       " 1400.0,\n",
       " 2300.0,\n",
       " 1550.0,\n",
       " 1000.0,\n",
       " 1050.0,\n",
       " 1525.0,\n",
       " 2200.0,\n",
       " 2000.0,\n",
       " 600.0,\n",
       " 1900.0,\n",
       " 1300.0,\n",
       " 1350.0,\n",
       " 1450.0,\n",
       " 1800.0,\n",
       " 1700.0,\n",
       " 1800.0,\n",
       " 2250.0,\n",
       " 1550.0,\n",
       " 1420.0,\n",
       " 1350.0,\n",
       " 1000.0,\n",
       " 1775.0,\n",
       " 2000.0,\n",
       " 900.0,\n",
       " 1525.0,\n",
       " 775.0,\n",
       " 1400.0,\n",
       " 1150.0,\n",
       " 1525.0,\n",
       " 1250.0,\n",
       " 1150.0,\n",
       " 1600.0,\n",
       " 2000.0,\n",
       " 1000.0,\n",
       " 1300.0,\n",
       " 1800.0,\n",
       " 1380.0,\n",
       " 2200.0,\n",
       " 2000.0,\n",
       " 1200.0,\n",
       " 1525.0,\n",
       " 1.0,\n",
       " 1450.0,\n",
       " 1650.0,\n",
       " 1600.0,\n",
       " 900.0,\n",
       " 1800.0,\n",
       " 700.0,\n",
       " 1700.0,\n",
       " 1000.0,\n",
       " 1450.0,\n",
       " 1800.0,\n",
       " 1000.0,\n",
       " 1100.0,\n",
       " 2000.0,\n",
       " 2600.0,\n",
       " 1525.0,\n",
       " 900.0,\n",
       " 800.0,\n",
       " 1200.0,\n",
       " 1400.0,\n",
       " 1400.0,\n",
       " 650.0,\n",
       " 1750.0,\n",
       " 1200.0,\n",
       " 3250.0,\n",
       " 1300.0,\n",
       " 875.0,\n",
       " 585.0,\n",
       " 1250.0,\n",
       " 2000.0,\n",
       " 1400.0,\n",
       " 1525.0,\n",
       " 1100.0,\n",
       " 1100.0,\n",
       " 800.0,\n",
       " 1400.0,\n",
       " 2000.0,\n",
       " 800.0,\n",
       " 2000.0,\n",
       " 2400.0,\n",
       " 1800.0,\n",
       " 750.0,\n",
       " 2000.0,\n",
       " 1500.0,\n",
       " 2250.0,\n",
       " 2200.0,\n",
       " 1525.0,\n",
       " 800.0,\n",
       " 1200.0,\n",
       " 1100.0,\n",
       " 2000.0,\n",
       " 1000.0,\n",
       " 1800.0,\n",
       " 1200.0,\n",
       " 650.0,\n",
       " 1600.0,\n",
       " 1525.0,\n",
       " 1850.0,\n",
       " 1750.0,\n",
       " 2000.0,\n",
       " 300.0,\n",
       " 2000.0,\n",
       " 2200.0,\n",
       " 2000.0,\n",
       " 2310.0,\n",
       " 2500.0,\n",
       " 1775.0,\n",
       " 2095.0,\n",
       " 900.0,\n",
       " 1500.0,\n",
       " 1525.0,\n",
       " 850.0,\n",
       " 1300.0,\n",
       " 2000.0,\n",
       " 1300.0,\n",
       " 1500.0,\n",
       " 1550.0,\n",
       " 1550.0,\n",
       " 1400.0,\n",
       " 2650.0,\n",
       " 2500.0,\n",
       " 1200.0,\n",
       " 2700.0]"
      ]
     },
     "execution_count": 311,
     "metadata": {},
     "output_type": "execute_result"
    }
   ],
   "source": [
    "pc2"
   ]
  },
  {
   "cell_type": "code",
   "execution_count": 312,
   "metadata": {},
   "outputs": [
    {
     "data": {
      "text/plain": [
       "155"
      ]
     },
     "execution_count": 312,
     "metadata": {},
     "output_type": "execute_result"
    }
   ],
   "source": [
    "len(pc2)"
   ]
  },
  {
   "cell_type": "code",
   "execution_count": 313,
   "metadata": {},
   "outputs": [
    {
     "data": {
      "text/plain": [
       "1519.7806451612903"
      ]
     },
     "execution_count": 313,
     "metadata": {},
     "output_type": "execute_result"
    }
   ],
   "source": [
    "np.mean(pc2)"
   ]
  },
  {
   "cell_type": "code",
   "execution_count": 314,
   "metadata": {},
   "outputs": [
    {
     "data": {
      "text/plain": [
       "1.0"
      ]
     },
     "execution_count": 314,
     "metadata": {},
     "output_type": "execute_result"
    }
   ],
   "source": [
    "np.min(pc2)"
   ]
  },
  {
   "cell_type": "code",
   "execution_count": 322,
   "metadata": {},
   "outputs": [
    {
     "data": {
      "text/plain": [
       "3250.0"
      ]
     },
     "execution_count": 322,
     "metadata": {},
     "output_type": "execute_result"
    }
   ],
   "source": [
    "np.max(pc2)"
   ]
  },
  {
   "cell_type": "code",
   "execution_count": 329,
   "metadata": {},
   "outputs": [],
   "source": [
    "x=np.sort(pc2)"
   ]
  },
  {
   "cell_type": "code",
   "execution_count": 330,
   "metadata": {},
   "outputs": [
    {
     "data": {
      "text/plain": [
       "[1525.0,\n",
       " 2800.0,\n",
       " 950.0,\n",
       " 1800.0,\n",
       " 1200.0,\n",
       " 1050.0,\n",
       " 1100.0,\n",
       " 2300.0,\n",
       " 1400.0,\n",
       " 1200.0,\n",
       " 1400.0,\n",
       " 2100.0,\n",
       " 1600.0,\n",
       " 1400.0,\n",
       " 2300.0,\n",
       " 1550.0,\n",
       " 1000.0,\n",
       " 1050.0,\n",
       " 1525.0,\n",
       " 2800.0,\n",
       " 950.0,\n",
       " 1800.0,\n",
       " 1200.0,\n",
       " 1050.0,\n",
       " 1100.0,\n",
       " 2300.0,\n",
       " 1400.0,\n",
       " 1200.0,\n",
       " 1400.0,\n",
       " 2100.0,\n",
       " 1600.0,\n",
       " 1400.0,\n",
       " 2300.0,\n",
       " 1550.0,\n",
       " 1000.0,\n",
       " 1050.0,\n",
       " 1525.0,\n",
       " 2200.0,\n",
       " 2000.0,\n",
       " 600.0,\n",
       " 1900.0,\n",
       " 1300.0,\n",
       " 1350.0,\n",
       " 1450.0,\n",
       " 1800.0,\n",
       " 1700.0,\n",
       " 1800.0,\n",
       " 2250.0,\n",
       " 1550.0,\n",
       " 1420.0,\n",
       " 1350.0,\n",
       " 1000.0,\n",
       " 1775.0,\n",
       " 2000.0,\n",
       " 900.0,\n",
       " 1525.0,\n",
       " 775.0,\n",
       " 1400.0,\n",
       " 1150.0,\n",
       " 1525.0,\n",
       " 1250.0,\n",
       " 1150.0,\n",
       " 1600.0,\n",
       " 2000.0,\n",
       " 1000.0,\n",
       " 1300.0,\n",
       " 1800.0,\n",
       " 1380.0,\n",
       " 2200.0,\n",
       " 2000.0,\n",
       " 1200.0,\n",
       " 1525.0,\n",
       " 1.0,\n",
       " 1450.0,\n",
       " 1650.0,\n",
       " 1600.0,\n",
       " 900.0,\n",
       " 1800.0,\n",
       " 700.0,\n",
       " 1700.0,\n",
       " 1000.0,\n",
       " 1450.0,\n",
       " 1800.0,\n",
       " 1000.0,\n",
       " 1100.0,\n",
       " 2000.0,\n",
       " 2600.0,\n",
       " 1525.0,\n",
       " 900.0,\n",
       " 800.0,\n",
       " 1200.0,\n",
       " 1400.0,\n",
       " 1400.0,\n",
       " 650.0,\n",
       " 1750.0,\n",
       " 1200.0,\n",
       " 3250.0,\n",
       " 1300.0,\n",
       " 875.0,\n",
       " 585.0,\n",
       " 1250.0,\n",
       " 2000.0,\n",
       " 1400.0,\n",
       " 1525.0,\n",
       " 1100.0,\n",
       " 1100.0,\n",
       " 800.0,\n",
       " 1400.0,\n",
       " 2000.0,\n",
       " 800.0,\n",
       " 2000.0,\n",
       " 2400.0,\n",
       " 1800.0,\n",
       " 750.0,\n",
       " 2000.0,\n",
       " 1500.0,\n",
       " 2250.0,\n",
       " 2200.0,\n",
       " 1525.0,\n",
       " 800.0,\n",
       " 1200.0,\n",
       " 1100.0,\n",
       " 2000.0,\n",
       " 1000.0,\n",
       " 1800.0,\n",
       " 1200.0,\n",
       " 650.0,\n",
       " 1600.0,\n",
       " 1525.0,\n",
       " 1850.0,\n",
       " 1750.0,\n",
       " 2000.0,\n",
       " 300.0,\n",
       " 2000.0,\n",
       " 2200.0,\n",
       " 2000.0,\n",
       " 2310.0,\n",
       " 2500.0,\n",
       " 1775.0,\n",
       " 2095.0,\n",
       " 900.0,\n",
       " 1500.0,\n",
       " 1525.0,\n",
       " 850.0,\n",
       " 1300.0,\n",
       " 2000.0,\n",
       " 1300.0,\n",
       " 1500.0,\n",
       " 1550.0,\n",
       " 1550.0,\n",
       " 1400.0,\n",
       " 2650.0,\n",
       " 2500.0,\n",
       " 1200.0,\n",
       " 2700.0]"
      ]
     },
     "execution_count": 330,
     "metadata": {},
     "output_type": "execute_result"
    }
   ],
   "source": [
    "pc2"
   ]
  },
  {
   "cell_type": "code",
   "execution_count": 331,
   "metadata": {},
   "outputs": [
    {
     "data": {
      "text/plain": [
       "array([  1.00000000e+00,   3.00000000e+02,   5.85000000e+02,\n",
       "         6.00000000e+02,   6.50000000e+02,   6.50000000e+02,\n",
       "         7.00000000e+02,   7.50000000e+02,   7.75000000e+02,\n",
       "         8.00000000e+02,   8.00000000e+02,   8.00000000e+02,\n",
       "         8.00000000e+02,   8.50000000e+02,   8.75000000e+02,\n",
       "         9.00000000e+02,   9.00000000e+02,   9.00000000e+02,\n",
       "         9.00000000e+02,   9.50000000e+02,   9.50000000e+02,\n",
       "         1.00000000e+03,   1.00000000e+03,   1.00000000e+03,\n",
       "         1.00000000e+03,   1.00000000e+03,   1.00000000e+03,\n",
       "         1.00000000e+03,   1.05000000e+03,   1.05000000e+03,\n",
       "         1.05000000e+03,   1.05000000e+03,   1.10000000e+03,\n",
       "         1.10000000e+03,   1.10000000e+03,   1.10000000e+03,\n",
       "         1.10000000e+03,   1.10000000e+03,   1.15000000e+03,\n",
       "         1.15000000e+03,   1.20000000e+03,   1.20000000e+03,\n",
       "         1.20000000e+03,   1.20000000e+03,   1.20000000e+03,\n",
       "         1.20000000e+03,   1.20000000e+03,   1.20000000e+03,\n",
       "         1.20000000e+03,   1.20000000e+03,   1.25000000e+03,\n",
       "         1.25000000e+03,   1.30000000e+03,   1.30000000e+03,\n",
       "         1.30000000e+03,   1.30000000e+03,   1.30000000e+03,\n",
       "         1.35000000e+03,   1.35000000e+03,   1.38000000e+03,\n",
       "         1.40000000e+03,   1.40000000e+03,   1.40000000e+03,\n",
       "         1.40000000e+03,   1.40000000e+03,   1.40000000e+03,\n",
       "         1.40000000e+03,   1.40000000e+03,   1.40000000e+03,\n",
       "         1.40000000e+03,   1.40000000e+03,   1.40000000e+03,\n",
       "         1.42000000e+03,   1.45000000e+03,   1.45000000e+03,\n",
       "         1.45000000e+03,   1.50000000e+03,   1.50000000e+03,\n",
       "         1.50000000e+03,   1.52500000e+03,   1.52500000e+03,\n",
       "         1.52500000e+03,   1.52500000e+03,   1.52500000e+03,\n",
       "         1.52500000e+03,   1.52500000e+03,   1.52500000e+03,\n",
       "         1.52500000e+03,   1.52500000e+03,   1.52500000e+03,\n",
       "         1.55000000e+03,   1.55000000e+03,   1.55000000e+03,\n",
       "         1.55000000e+03,   1.55000000e+03,   1.60000000e+03,\n",
       "         1.60000000e+03,   1.60000000e+03,   1.60000000e+03,\n",
       "         1.60000000e+03,   1.65000000e+03,   1.70000000e+03,\n",
       "         1.70000000e+03,   1.75000000e+03,   1.75000000e+03,\n",
       "         1.77500000e+03,   1.77500000e+03,   1.80000000e+03,\n",
       "         1.80000000e+03,   1.80000000e+03,   1.80000000e+03,\n",
       "         1.80000000e+03,   1.80000000e+03,   1.80000000e+03,\n",
       "         1.80000000e+03,   1.80000000e+03,   1.85000000e+03,\n",
       "         1.90000000e+03,   2.00000000e+03,   2.00000000e+03,\n",
       "         2.00000000e+03,   2.00000000e+03,   2.00000000e+03,\n",
       "         2.00000000e+03,   2.00000000e+03,   2.00000000e+03,\n",
       "         2.00000000e+03,   2.00000000e+03,   2.00000000e+03,\n",
       "         2.00000000e+03,   2.00000000e+03,   2.00000000e+03,\n",
       "         2.09500000e+03,   2.10000000e+03,   2.10000000e+03,\n",
       "         2.20000000e+03,   2.20000000e+03,   2.20000000e+03,\n",
       "         2.20000000e+03,   2.25000000e+03,   2.25000000e+03,\n",
       "         2.30000000e+03,   2.30000000e+03,   2.30000000e+03,\n",
       "         2.30000000e+03,   2.31000000e+03,   2.40000000e+03,\n",
       "         2.50000000e+03,   2.50000000e+03,   2.60000000e+03,\n",
       "         2.65000000e+03,   2.70000000e+03,   2.80000000e+03,\n",
       "         2.80000000e+03,   3.25000000e+03])"
      ]
     },
     "execution_count": 331,
     "metadata": {},
     "output_type": "execute_result"
    }
   ],
   "source": [
    "x"
   ]
  },
  {
   "cell_type": "code",
   "execution_count": 324,
   "metadata": {
    "collapsed": true
   },
   "outputs": [],
   "source": [
    "import matplotlib.pyplot as plt"
   ]
  },
  {
   "cell_type": "code",
   "execution_count": 332,
   "metadata": {},
   "outputs": [
    {
     "data": {
      "image/png": "[encoded data removed]",
      "text/plain": [
       "<matplotlib.figure.Figure at 0x11593c160>"
      ]
     },
     "metadata": {},
     "output_type": "display_data"
    }
   ],
   "source": [
    "plt.plot(x)\n",
    "plt.show()"
   ]
  },
  {
   "cell_type": "code",
   "execution_count": 380,
   "metadata": {},
   "outputs": [
    {
     "ename": "ValueError",
     "evalue": "color kwarg must have one color per dataset",
     "output_type": "error",
     "traceback": [
      "\u001b[0;31m---------------------------------------------------------------------------\u001b[0m",
      "\u001b[0;31mValueError\u001b[0m                                Traceback (most recent call last)",
      "\u001b[0;32m<ipython-input-380-d0ff9dc2f7b1>\u001b[0m in \u001b[0;36m<module>\u001b[0;34m()\u001b[0m\n\u001b[1;32m      1\u001b[0m \u001b[0mbins\u001b[0m \u001b[0;34m=\u001b[0m \u001b[0mnp\u001b[0m\u001b[0;34m.\u001b[0m\u001b[0mlinspace\u001b[0m\u001b[0;34m(\u001b[0m\u001b[0;36m0\u001b[0m\u001b[0;34m,\u001b[0m \u001b[0;36m3000\u001b[0m\u001b[0;34m,\u001b[0m \u001b[0;36m10\u001b[0m\u001b[0;34m)\u001b[0m\u001b[0;34m\u001b[0m\u001b[0m\n\u001b[0;32m----> 2\u001b[0;31m \u001b[0mplt\u001b[0m\u001b[0;34m.\u001b[0m\u001b[0mhist\u001b[0m\u001b[0;34m(\u001b[0m\u001b[0mx\u001b[0m\u001b[0;34m,\u001b[0m \u001b[0mbins\u001b[0m\u001b[0;34m,\u001b[0m \u001b[0malpha\u001b[0m\u001b[0;34m=\u001b[0m\u001b[0;36m0.5\u001b[0m\u001b[0;34m,\u001b[0m\u001b[0mhisttype\u001b[0m\u001b[0;34m=\u001b[0m\u001b[0;34m'bar'\u001b[0m\u001b[0;34m,\u001b[0m \u001b[0mcolor\u001b[0m\u001b[0;34m=\u001b[0m\u001b[0;34m[\u001b[0m\u001b[0;34m'r'\u001b[0m\u001b[0;34m,\u001b[0m\u001b[0;34m'g'\u001b[0m\u001b[0;34m,\u001b[0m\u001b[0;34m'b'\u001b[0m\u001b[0;34m,\u001b[0m\u001b[0;34m'r'\u001b[0m\u001b[0;34m,\u001b[0m\u001b[0;34m'g'\u001b[0m\u001b[0;34m,\u001b[0m\u001b[0;34m'b'\u001b[0m\u001b[0;34m,\u001b[0m\u001b[0;34m'r'\u001b[0m\u001b[0;34m,\u001b[0m\u001b[0;34m'g'\u001b[0m\u001b[0;34m,\u001b[0m\u001b[0;34m'b'\u001b[0m\u001b[0;34m,\u001b[0m\u001b[0;34m'r'\u001b[0m\u001b[0;34m,\u001b[0m\u001b[0;34m'g'\u001b[0m\u001b[0;34m,\u001b[0m\u001b[0;34m'b'\u001b[0m\u001b[0;34m,\u001b[0m\u001b[0;34m'r'\u001b[0m\u001b[0;34m,\u001b[0m\u001b[0;34m'g'\u001b[0m\u001b[0;34m,\u001b[0m\u001b[0;34m'b'\u001b[0m\u001b[0;34m,\u001b[0m\u001b[0;34m'r'\u001b[0m\u001b[0;34m,\u001b[0m\u001b[0;34m'g'\u001b[0m\u001b[0;34m,\u001b[0m\u001b[0;34m'b'\u001b[0m\u001b[0;34m,\u001b[0m\u001b[0;34m'r'\u001b[0m\u001b[0;34m,\u001b[0m\u001b[0;34m'g'\u001b[0m\u001b[0;34m,\u001b[0m\u001b[0;34m'b'\u001b[0m\u001b[0;34m,\u001b[0m\u001b[0;34m'r'\u001b[0m\u001b[0;34m,\u001b[0m\u001b[0;34m'g'\u001b[0m\u001b[0;34m,\u001b[0m\u001b[0;34m'b'\u001b[0m\u001b[0;34m,\u001b[0m\u001b[0;34m'r'\u001b[0m\u001b[0;34m,\u001b[0m\u001b[0;34m'g'\u001b[0m\u001b[0;34m,\u001b[0m\u001b[0;34m'b'\u001b[0m\u001b[0;34m,\u001b[0m\u001b[0;34m'r'\u001b[0m\u001b[0;34m,\u001b[0m\u001b[0;34m'g'\u001b[0m\u001b[0;34m,\u001b[0m\u001b[0;34m'b'\u001b[0m\u001b[0;34m,\u001b[0m\u001b[0;34m'r'\u001b[0m\u001b[0;34m,\u001b[0m\u001b[0;34m'g'\u001b[0m\u001b[0;34m,\u001b[0m\u001b[0;34m'b'\u001b[0m\u001b[0;34m]\u001b[0m\u001b[0;34m)\u001b[0m\u001b[0;34m\u001b[0m\u001b[0m\n\u001b[0m\u001b[1;32m      3\u001b[0m \u001b[0mplt\u001b[0m\u001b[0;34m.\u001b[0m\u001b[0mshow\u001b[0m\u001b[0;34m(\u001b[0m\u001b[0;34m)\u001b[0m\u001b[0;34m\u001b[0m\u001b[0m\n",
      "\u001b[0;32m/Users/xiaosheng/anaconda/lib/python3.5/site-packages/matplotlib/pyplot.py\u001b[0m in \u001b[0;36mhist\u001b[0;34m(x, bins, range, normed, weights, cumulative, bottom, histtype, align, orientation, rwidth, log, color, label, stacked, hold, data, **kwargs)\u001b[0m\n\u001b[1;32m   3080\u001b[0m                       \u001b[0mhisttype\u001b[0m\u001b[0;34m=\u001b[0m\u001b[0mhisttype\u001b[0m\u001b[0;34m,\u001b[0m \u001b[0malign\u001b[0m\u001b[0;34m=\u001b[0m\u001b[0malign\u001b[0m\u001b[0;34m,\u001b[0m \u001b[0morientation\u001b[0m\u001b[0;34m=\u001b[0m\u001b[0morientation\u001b[0m\u001b[0;34m,\u001b[0m\u001b[0;34m\u001b[0m\u001b[0m\n\u001b[1;32m   3081\u001b[0m                       \u001b[0mrwidth\u001b[0m\u001b[0;34m=\u001b[0m\u001b[0mrwidth\u001b[0m\u001b[0;34m,\u001b[0m \u001b[0mlog\u001b[0m\u001b[0;34m=\u001b[0m\u001b[0mlog\u001b[0m\u001b[0;34m,\u001b[0m \u001b[0mcolor\u001b[0m\u001b[0;34m=\u001b[0m\u001b[0mcolor\u001b[0m\u001b[0;34m,\u001b[0m \u001b[0mlabel\u001b[0m\u001b[0;34m=\u001b[0m\u001b[0mlabel\u001b[0m\u001b[0;34m,\u001b[0m\u001b[0;34m\u001b[0m\u001b[0m\n\u001b[0;32m-> 3082\u001b[0;31m                       stacked=stacked, data=data, **kwargs)\n\u001b[0m\u001b[1;32m   3083\u001b[0m     \u001b[0;32mfinally\u001b[0m\u001b[0;34m:\u001b[0m\u001b[0;34m\u001b[0m\u001b[0m\n\u001b[1;32m   3084\u001b[0m         \u001b[0max\u001b[0m\u001b[0;34m.\u001b[0m\u001b[0m_hold\u001b[0m \u001b[0;34m=\u001b[0m \u001b[0mwashold\u001b[0m\u001b[0;34m\u001b[0m\u001b[0m\n",
      "\u001b[0;32m/Users/xiaosheng/anaconda/lib/python3.5/site-packages/matplotlib/__init__.py\u001b[0m in \u001b[0;36minner\u001b[0;34m(ax, *args, **kwargs)\u001b[0m\n\u001b[1;32m   1890\u001b[0m                     warnings.warn(msg % (label_namer, func.__name__),\n\u001b[1;32m   1891\u001b[0m                                   RuntimeWarning, stacklevel=2)\n\u001b[0;32m-> 1892\u001b[0;31m             \u001b[0;32mreturn\u001b[0m \u001b[0mfunc\u001b[0m\u001b[0;34m(\u001b[0m\u001b[0max\u001b[0m\u001b[0;34m,\u001b[0m \u001b[0;34m*\u001b[0m\u001b[0margs\u001b[0m\u001b[0;34m,\u001b[0m \u001b[0;34m**\u001b[0m\u001b[0mkwargs\u001b[0m\u001b[0;34m)\u001b[0m\u001b[0;34m\u001b[0m\u001b[0m\n\u001b[0m\u001b[1;32m   1893\u001b[0m         \u001b[0mpre_doc\u001b[0m \u001b[0;34m=\u001b[0m \u001b[0minner\u001b[0m\u001b[0;34m.\u001b[0m\u001b[0m__doc__\u001b[0m\u001b[0;34m\u001b[0m\u001b[0m\n\u001b[1;32m   1894\u001b[0m         \u001b[0;32mif\u001b[0m \u001b[0mpre_doc\u001b[0m \u001b[0;32mis\u001b[0m \u001b[0;32mNone\u001b[0m\u001b[0;34m:\u001b[0m\u001b[0;34m\u001b[0m\u001b[0m\n",
      "\u001b[0;32m/Users/xiaosheng/anaconda/lib/python3.5/site-packages/matplotlib/axes/_axes.py\u001b[0m in \u001b[0;36mhist\u001b[0;34m(self, x, bins, range, normed, weights, cumulative, bottom, histtype, align, orientation, rwidth, log, color, label, stacked, **kwargs)\u001b[0m\n\u001b[1;32m   6163\u001b[0m             \u001b[0mcolor\u001b[0m \u001b[0;34m=\u001b[0m \u001b[0mmcolors\u001b[0m\u001b[0;34m.\u001b[0m\u001b[0mto_rgba_array\u001b[0m\u001b[0;34m(\u001b[0m\u001b[0mcolor\u001b[0m\u001b[0;34m)\u001b[0m\u001b[0;34m\u001b[0m\u001b[0m\n\u001b[1;32m   6164\u001b[0m             \u001b[0;32mif\u001b[0m \u001b[0mlen\u001b[0m\u001b[0;34m(\u001b[0m\u001b[0mcolor\u001b[0m\u001b[0;34m)\u001b[0m \u001b[0;34m!=\u001b[0m \u001b[0mnx\u001b[0m\u001b[0;34m:\u001b[0m\u001b[0;34m\u001b[0m\u001b[0m\n\u001b[0;32m-> 6165\u001b[0;31m                 \u001b[0;32mraise\u001b[0m \u001b[0mValueError\u001b[0m\u001b[0;34m(\u001b[0m\u001b[0;34m\"color kwarg must have one color per dataset\"\u001b[0m\u001b[0;34m)\u001b[0m\u001b[0;34m\u001b[0m\u001b[0m\n\u001b[0m\u001b[1;32m   6166\u001b[0m \u001b[0;34m\u001b[0m\u001b[0m\n\u001b[1;32m   6167\u001b[0m         \u001b[0;31m# Save the datalimits for the same reason:\u001b[0m\u001b[0;34m\u001b[0m\u001b[0;34m\u001b[0m\u001b[0m\n",
      "\u001b[0;31mValueError\u001b[0m: color kwarg must have one color per dataset"
     ]
    }
   ],
   "source": [
    "bins = np.linspace(0, 3000, 10)\n",
    "plt.hist(x, bins, alpha=0.5,histtype='bar')\n",
    "plt.show()"
   ]
  },
  {
   "cell_type": "code",
   "execution_count": null,
   "metadata": {
    "collapsed": true
   },
   "outputs": [],
   "source": []
  },
  {
   "cell_type": "code",
   "execution_count": null,
   "metadata": {
    "collapsed": true
   },
   "outputs": [],
   "source": []
  },
  {
   "cell_type": "code",
   "execution_count": null,
   "metadata": {
    "collapsed": true
   },
   "outputs": [],
   "source": []
  },
  {
   "cell_type": "code",
   "execution_count": null,
   "metadata": {
    "collapsed": true
   },
   "outputs": [],
   "source": []
  }
 ],
 "metadata": {
  "kernelspec": {
   "display_name": "Python 3",
   "language": "python",
   "name": "python3"
  },
  "language_info": {
   "codemirror_mode": {
    "name": "ipython",
    "version": 3
   },
   "file_extension": ".py",
   "mimetype": "text/x-python",
   "name": "python",
   "nbconvert_exporter": "python",
   "pygments_lexer": "ipython3",
   "version": "3.5.3"
  }
 },
 "nbformat": 4,
 "nbformat_minor": 2
}
